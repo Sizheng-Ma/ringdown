{
 "cells": [
  {
   "cell_type": "markdown",
   "id": "2ff28cc9",
   "metadata": {},
   "source": [
    "# Cleaning Modes With Rational Filters"
   ]
  },
  {
   "cell_type": "code",
   "execution_count": 1,
   "id": "3dceeb4f",
   "metadata": {},
   "outputs": [],
   "source": [
    "%matplotlib inline\n",
    "%config InlineBackend.figure_format = 'retina'"
   ]
  },
  {
   "cell_type": "code",
   "execution_count": 2,
   "id": "8fb9571a",
   "metadata": {},
   "outputs": [],
   "source": [
    "import h5py\n",
    "from joblib import Parallel, delayed\n",
    "import matplotlib.pyplot as pl\n",
    "import numpy as np\n",
    "import ringdown\n",
    "import sys"
   ]
  },
  {
   "cell_type": "markdown",
   "id": "b4b57686",
   "metadata": {},
   "source": [
    "## Import GW150914"
   ]
  },
  {
   "cell_type": "markdown",
   "id": "b955ec56",
   "metadata": {},
   "source": [
    "Download data"
   ]
  },
  {
   "cell_type": "code",
   "execution_count": 3,
   "id": "7c11fd51",
   "metadata": {},
   "outputs": [],
   "source": [
    "#!wget https://www.gw-openscience.org/eventapi/html/GWTC-1-confident/GW150914/v3/H-H1_GWOSC_16KHZ_R1-1126259447-32.hdf5\n",
    "#!wget https://www.gw-openscience.org/eventapi/html/GWTC-1-confident/GW150914/v3/L-L1_GWOSC_16KHZ_R1-1126259447-32.hdf5"
   ]
  },
  {
   "cell_type": "code",
   "execution_count": 4,
   "id": "3ef0de30",
   "metadata": {},
   "outputs": [],
   "source": [
    "def read_strain(file, dname):\n",
    "    with h5py.File(file, 'r') as f:\n",
    "        t0 = f['meta/GPSstart'][()]\n",
    "        T = f['meta/Duration'][()]\n",
    "        h = f['strain/Strain'][:]\n",
    "    \n",
    "        dt = T/len(h)\n",
    "    \n",
    "        raw_strain = ringdown.Data(h, index=t0 + dt*np.arange(len(h)), ifo=dname)\n",
    "        \n",
    "        return raw_strain\n",
    "    \n",
    "h_raw_strain = read_strain('H-H1_GWOSC_16KHZ_R1-1126259447-32.hdf5', 'H1')\n",
    "l_raw_strain = read_strain('L-L1_GWOSC_16KHZ_R1-1126259447-32.hdf5', 'L1')"
   ]
  },
  {
   "cell_type": "markdown",
   "id": "67781855",
   "metadata": {},
   "source": [
    "## Cholesky-decomposition of the covariance matrix "
   ]
  },
  {
   "cell_type": "markdown",
   "id": "0b485554",
   "metadata": {},
   "source": [
    "_NOTE:_ The decomposition might be expensive. But luckily, the result should be independent of the filter, so we can compute the result only once with the unfiltered data before iterating over the mass and spin."
   ]
  },
  {
   "cell_type": "code",
   "execution_count": 5,
   "id": "cc8dc571",
   "metadata": {},
   "outputs": [],
   "source": [
    "def set_data(apply_filter=False, **kwargs):\n",
    "    \"\"\"Creates a :class:`Fit` instance for (un)filtered ringdown data\n",
    "    \n",
    "    .. note::\n",
    "        Data are conditioned before the filter.\n",
    "        \n",
    "    Arguments\n",
    "    ---------\n",
    "    apply_filter : bool\n",
    "        if false, don't apply the filter. This is typically used while \n",
    "        estimating the Cholesky-decomposition of the covariance matrix.\n",
    "    \n",
    "    kwargs : information of sky location, polarization anlge, conditioning.\n",
    "    \n",
    "    Returns\n",
    "    ---------\n",
    "    fit : Fit\n",
    "        Ringdown :class:`Fit` object.\n",
    "    \"\"\"\n",
    "    t_init = kwargs.pop(\"t_init\")\n",
    "    T = kwargs.pop(\"T\")\n",
    "    srate = kwargs.pop(\"srate\")\n",
    "    ra = kwargs.pop(\"ra\")\n",
    "    dec = kwargs.pop(\"dec\")\n",
    "    psi = kwargs.pop(\"psi\")\n",
    "    flow = kwargs.pop(\"flow\")\n",
    "    \n",
    "    fit = ringdown.Fit(model='filter')\n",
    "    fit.add_data(h_raw_strain)\n",
    "    fit.add_data(l_raw_strain)\n",
    "    fit.set_target(t_init, ra=ra, dec=dec, psi=psi, duration=T)\n",
    "    fit.condition_data(ds=int(round(h_raw_strain.fsamp/srate)), flow=flow)\n",
    "    \n",
    "    if apply_filter:\n",
    "        M_est = kwargs.pop(\"M_est\")\n",
    "        chi_est = kwargs.pop(\"chi_est\")\n",
    "        model_list = kwargs.pop(\"model_list\")\n",
    "        fit.filter_data(chi_est,M_est,model_list)\n",
    "        \n",
    "    return fit"
   ]
  },
  {
   "cell_type": "code",
   "execution_count": 6,
   "id": "567e7b23",
   "metadata": {},
   "outputs": [],
   "source": [
    "def compute_L_inv(fit):\n",
    "    \"\"\"Perform the Cholesky decomposition of the covariance matrix\n",
    "    by calling :meth:`Fit.compute_acfs`.\n",
    "    \n",
    "    Arguments\n",
    "    ---------\n",
    "    fit : Fit\n",
    "        Ringdown :class:`Fit` object.\n",
    "        \n",
    "    Returns\n",
    "    ---------\n",
    "    Ls_inv : array\n",
    "        The inverse of the decomposition matrix. \n",
    "    \"\"\"\n",
    "    fit.compute_acfs()\n",
    "    Ls = fit.obtain_L()\n",
    "    Ls_inv = []\n",
    "    # Iterate over dectors\n",
    "    for i in range(len(Ls)):\n",
    "        inverse_Ls = np.linalg.inv(Ls[i])\n",
    "        # Check that the matrix is properly inversed\n",
    "        norm = np.sqrt(np.sum(abs(np.dot(inverse_Ls,Ls[i])\n",
    "                                  -np.identity(len(Ls[i])))**2))\n",
    "        if abs(norm)>1e-8:\n",
    "            raise ValueError(\"Inverse of L is not correct\")\n",
    "        Ls_inv.append(inverse_Ls)\n",
    "    return np.array(Ls_inv)"
   ]
  },
  {
   "cell_type": "code",
   "execution_count": 7,
   "id": "b23bef1c",
   "metadata": {},
   "outputs": [],
   "source": [
    "input = dict(model_list = [(1, -2, 2, 2, 0)],\n",
    "             # trucation time (geocenter, in second)\n",
    "             t_init = 1126259462.4083147+2.0*1e-3,\n",
    "             # length of the analysis window (in second)\n",
    "             T = 0.2,\n",
    "             # sampling rate after conditioning (in Hz)\n",
    "             srate = 2048,\n",
    "             # sky localization and polarization angle\n",
    "             ra = 1.95, dec = -1.27, psi = 0.82,\n",
    "             # lower limit of the high-pass filter (in Hz)\n",
    "             flow = 20)"
   ]
  },
  {
   "cell_type": "code",
   "execution_count": 8,
   "id": "32e26085",
   "metadata": {},
   "outputs": [],
   "source": [
    "fit = set_data(apply_filter=False, **input)\n",
    "Ls_inv = compute_L_inv(fit)"
   ]
  },
  {
   "cell_type": "markdown",
   "id": "07a8a5d6",
   "metadata": {},
   "source": [
    "## Likelihood as a function of mass and spin"
   ]
  },
  {
   "cell_type": "code",
   "execution_count": 9,
   "id": "41061387",
   "metadata": {},
   "outputs": [],
   "source": [
    "def compute_likelihood(fit, Ls_inv):\n",
    "    \"\"\"Compute the likelihood\n",
    "    \n",
    "    Arguments\n",
    "    ---------\n",
    "    fit : Fit\n",
    "        Ringdown :class:`Fit` object.\n",
    "    \n",
    "    Ls_inv : array\n",
    "        The inverse of the Cholesky-decomposition of the covariance matrix.\n",
    "        \n",
    "    Returns\n",
    "    ---------\n",
    "    likelihood : float\n",
    "        The likelihood of the detector network\n",
    "    \"\"\"\n",
    "    wd = fit.analysis_data # obtain the whitened and filtered data\n",
    "    strains = np.array([s.values for s in wd.values()])\n",
    "    times = np.array([np.array(d.time) for d in wd.values()])\n",
    "    likelihood = 0\n",
    "    \n",
    "    # Iterate over dectors\n",
    "    for i in range(len(strains)):\n",
    "        whitened = np.dot(Ls_inv[i], strains[i])\n",
    "        likelihood -= 0.5*np.dot(whitened, whitened)\n",
    "        \n",
    "    return likelihood\n",
    "\n",
    "def likelihood_vs_mass_spin(Ls_inv, M_est, chi_est, **kwargs):\n",
    "    \"\"\"Update the remannt mass and spin and compute the corresponding\n",
    "    likelihood\n",
    "    \n",
    "    Arguments\n",
    "    ---------\n",
    "    Ls_inv : array\n",
    "        The inverse of the Cholesky-decomposition of the covariance matrix.\n",
    "        \n",
    "    M_est : float \n",
    "        The remnant mass, in solar mass.\n",
    "        \n",
    "    chi_est : float\n",
    "        The remnant dimensionless spin.\n",
    "        \n",
    "    Returns\n",
    "    ---------\n",
    "    likelihood : float\n",
    "        The likelihood of the detector network\n",
    "    \"\"\"\n",
    "    # Update the remnant mass and spin\n",
    "    kwargs['M_est'] = M_est\n",
    "    kwargs['chi_est'] = chi_est\n",
    "    \n",
    "    fit = set_data(apply_filter=True, **kwargs)\n",
    "    likelihood = compute_likelihood(fit, Ls_inv)\n",
    "    return likelihood"
   ]
  },
  {
   "cell_type": "markdown",
   "id": "2a7feddd",
   "metadata": {},
   "source": [
    "Sampling remnant mass and spin"
   ]
  },
  {
   "cell_type": "code",
   "execution_count": 13,
   "id": "81d358e6",
   "metadata": {},
   "outputs": [],
   "source": [
    "chispace = np.arange(0.0, 0.95, 0.06)\n",
    "massspace = np.arange(34, 100, 2.0)\n",
    "X, Y = np.meshgrid(massspace, chispace)"
   ]
  },
  {
   "cell_type": "markdown",
   "id": "68a68e6a",
   "metadata": {},
   "source": [
    "Interate over the samplings"
   ]
  },
  {
   "cell_type": "code",
   "execution_count": 30,
   "id": "0a7eb504",
   "metadata": {},
   "outputs": [
    {
     "name": "stdout",
     "output_type": "stream",
     "text": [
      "[====================] 100.000000%"
     ]
    }
   ],
   "source": [
    "finalfinal = []\n",
    "for j in chispace:\n",
    "    #A silly way to parallelize...\n",
    "    final = Parallel(-1)(delayed(likelihood_vs_mass_spin)(Ls_inv, i, j, **input) \n",
    "                         for i in massspace)\n",
    "    finalfinal.append(final)\n",
    "\n",
    "    #print the process\n",
    "    sys.stdout.write('\\r')\n",
    "    sys.stdout.write(\"[%-20s] %f%%\" % ('='*int(20*j/chispace[-1]), 100*j/chispace[-1]))\n",
    "    sys.stdout.flush()\n",
    "    \n",
    "finalfinal = np.array(finalfinal)"
   ]
  },
  {
   "cell_type": "markdown",
   "id": "15d3ce48",
   "metadata": {},
   "source": [
    "Plot the results"
   ]
  },
  {
   "cell_type": "code",
   "execution_count": 31,
   "id": "9cc9f1c5",
   "metadata": {},
   "outputs": [
    {
     "data": {
      "text/plain": [
       "Text(0, 0.5, '$\\\\chi_f$')"
      ]
     },
     "execution_count": 31,
     "metadata": {},
     "output_type": "execute_result"
    },
    {
     "data": {
      "image/png": "[encoded data removed]",
      "text/plain": [
       "<Figure size 439.2x475.2 with 2 Axes>"
      ]
     },
     "metadata": {
      "image/png": {
       "height": 377,
       "width": 404
      },
      "needs_background": "light"
     },
     "output_type": "display_data"
    }
   ],
   "source": [
    "pl.rc('figure', figsize=(6.1, 6.6))\n",
    "fig, ax = pl.subplots()\n",
    "contours = ax.contourf(X, Y, finalfinal, 20, cmap='Spectral',\n",
    "                       origin='lower', alpha=0.6, linestyles='--')\n",
    "ax.scatter(x=68.5, y=0.69, s=255, marker='+', \n",
    "           c='g', linewidths=4, label='IMR')\n",
    "\n",
    "\n",
    "# coloarbar\n",
    "cbar=fig.colorbar(contours, orientation=\"horizontal\", \n",
    "                  pad=0.15, format='%3.2f')\n",
    "cbar.set_label(r'$\\log_{10}$ likelihood', fontsize=15)\n",
    "cbar.set_ticks(np.linspace(np.min(finalfinal), np.max(finalfinal), 5))\n",
    "\n",
    "pl.xlabel(r'$M_f$', fontsize=13)\n",
    "pl.ylabel(r'$\\chi_f$', fontsize=13)\n",
    "\n",
    "# ax.set_title(r'$\\mathcal{F}_{220}+\\mathcal{F}_{221}$')"
   ]
  },
  {
   "cell_type": "code",
   "execution_count": null,
   "id": "55e6ed9b",
   "metadata": {},
   "outputs": [],
   "source": []
  }
 ],
 "metadata": {
  "kernelspec": {
   "display_name": "Python 3 (ipykernel)",
   "language": "python",
   "name": "python3"
  },
  "language_info": {
   "codemirror_mode": {
    "name": "ipython",
    "version": 3
   },
   "file_extension": ".py",
   "mimetype": "text/x-python",
   "name": "python",
   "nbconvert_exporter": "python",
   "pygments_lexer": "ipython3",
   "version": "3.10.5"
  }
 },
 "nbformat": 4,
 "nbformat_minor": 5
}

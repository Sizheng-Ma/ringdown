{
 "cells": [
  {
   "cell_type": "code",
   "execution_count": 1,
   "id": "185a395e",
   "metadata": {},
   "outputs": [],
   "source": [
    "import numpy as np\n",
    "import matplotlib.pyplot as pl\n",
    "pl.rcParams.update({'text.usetex': False,\n",
    "                     'font.family': 'serif',\n",
    "                     'font.serif': ['Georgia'],\n",
    "                     'mathtext.fontset': 'cm',\n",
    "                     'lines.linewidth': 2.5,\n",
    "                     'font.size': 14,\n",
    "                     'xtick.labelsize': 'medium',\n",
    "                     'ytick.labelsize': 'medium',\n",
    "                     'xtick.direction': 'in',\n",
    "                     'ytick.direction': 'in',\n",
    "                     'axes.labelsize': 'large',\n",
    "                     'axes.titlesize': 'large',\n",
    "                     'axes.grid': False,\n",
    "                     'grid.alpha': 0.73,\n",
    "                     'lines.markersize': 12,\n",
    "                     'legend.borderpad': 0.2,\n",
    "                     'legend.fancybox': True,\n",
    "                     'legend.fontsize': 12,\n",
    "                     'legend.framealpha': 0.7,\n",
    "                     'legend.handletextpad': 0.5,\n",
    "                     'legend.labelspacing': 0.2,\n",
    "                     'legend.loc': 'best',\n",
    "                     'savefig.dpi': 80,\n",
    "                     'pdf.compression': 9})"
   ]
  },
  {
   "cell_type": "code",
   "execution_count": 32,
   "id": "59cae89e",
   "metadata": {},
   "outputs": [],
   "source": [
    "mass=np.array([74,73,72,71,70,69,68,67,66,65,64,63,75,76,77,78])\n",
    "A0=np.array([1.40832801e-22,1.50702501e-22,1.2044329e-22,1.12608991e-22,1.11692863e-22,1.10686367e-22,1.11895572e-22,\\\n",
    "            1.17868884e-22,2.12653528e-22,3.9225009e-22,2.79073388e-22,4.79899445e-22,9.84638229e-23,1.03415382e-22,1.07061975e-22,\\\n",
    "            1.95291535e-22,1.5110931e-22])"
   ]
  },
  {
   "cell_type": "code",
   "execution_count": 33,
   "id": "5a4beab5",
   "metadata": {},
   "outputs": [
    {
     "data": {
      "text/plain": [
       "<matplotlib.legend.Legend at 0x11b7c7bb0>"
      ]
     },
     "execution_count": 33,
     "metadata": {},
     "output_type": "execute_result"
    },
    {
     "data": {
      "image/png": "[encoded data removed]",
      "text/plain": [
       "<Figure size 432x288 with 1 Axes>"
      ]
     },
     "metadata": {
      "needs_background": "light"
     },
     "output_type": "display_data"
    }
   ],
   "source": [
    "pl.scatter(mass,A0,s=9,color='k')\n",
    "pl.axvline(x=68.5,ls='--',color='r',label='IMR')\n",
    "pl.ylabel(r'$A_0$')\n",
    "pl.xlabel(r'$M/M_\\odot$')\n",
    "pl.legend()\n",
    "# pl.savefig('GW150914/filter_vary_mass.pdf',bbox_inches='tight')"
   ]
  },
  {
   "cell_type": "code",
   "execution_count": null,
   "id": "7c76d658",
   "metadata": {},
   "outputs": [],
   "source": []
  },
  {
   "cell_type": "code",
   "execution_count": null,
   "id": "e7fb0128",
   "metadata": {},
   "outputs": [],
   "source": []
  }
 ],
 "metadata": {
  "kernelspec": {
   "display_name": "Python 3 (ipykernel)",
   "language": "python",
   "name": "python3"
  },
  "language_info": {
   "codemirror_mode": {
    "name": "ipython",
    "version": 3
   },
   "file_extension": ".py",
   "mimetype": "text/x-python",
   "name": "python",
   "nbconvert_exporter": "python",
   "pygments_lexer": "ipython3",
   "version": "3.10.4"
  }
 },
 "nbformat": 4,
 "nbformat_minor": 5
}

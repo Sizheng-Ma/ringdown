{
 "cells": [
  {
   "cell_type": "code",
   "execution_count": 1,
   "id": "23028e38",
   "metadata": {},
   "outputs": [],
   "source": [
    "%matplotlib inline\n",
    "# %config InlineBackend.figure_format = 'retina'"
   ]
  },
  {
   "cell_type": "code",
   "execution_count": 115,
   "id": "28a9ea5d",
   "metadata": {},
   "outputs": [],
   "source": [
    "import numpy as np\n",
    "import matplotlib.pyplot as pl\n",
    "from scipy import interpolate\n",
    "import h5py\n",
    "import qnm\n",
    "from numpy import vectorize\n",
    "from scipy.interpolate import interp1d\n",
    "from scipy.optimize import minimize\n",
    "from scipy.optimize import least_squares\n",
    "pl.rc('figure', figsize=(6.1, 4.5))\n",
    "pl.rcParams.update({'text.usetex': False,\n",
    "                     'font.family': 'serif',\n",
    "                     'font.serif': ['Georgia'],\n",
    "                     'mathtext.fontset': 'cm',\n",
    "                     'lines.linewidth': 2.5,\n",
    "                     'font.size': 14,\n",
    "                     'xtick.labelsize': 'medium',\n",
    "                     'ytick.labelsize': 'medium',\n",
    "                     'xtick.direction': 'in',\n",
    "                     'ytick.direction': 'in',\n",
    "                     'axes.labelsize': 'large',\n",
    "                     'axes.titlesize': 'large',\n",
    "                     'axes.grid': False,\n",
    "                     'grid.alpha': 0.73,\n",
    "                     'lines.markersize': 12,\n",
    "                     'legend.borderpad': 0.2,\n",
    "                     'legend.fancybox': True,\n",
    "                     'legend.fontsize': 12,\n",
    "                     'legend.framealpha': 0.7,\n",
    "                     'legend.handletextpad': 0.5,\n",
    "                     'legend.labelspacing': 0.2,\n",
    "                     'legend.loc': 'best',\n",
    "                     'savefig.dpi': 80,\n",
    "                     'pdf.compression': 9})"
   ]
  },
  {
   "cell_type": "code",
   "execution_count": 116,
   "id": "a215709d",
   "metadata": {},
   "outputs": [],
   "source": [
    "# define sampling rate and duration (make these powers of two) \n",
    "fsamp = 8192\n",
    "duration = 0.08\n",
    "t0 = 0\n",
    "\n",
    "delta_t = 1/fsamp\n",
    "tlen = int(round(duration / delta_t))\n",
    "epoch = t0 - 0.5*tlen*delta_t\n",
    "\n",
    "time = np.arange(tlen)*delta_t + epoch"
   ]
  },
  {
   "cell_type": "code",
   "execution_count": 117,
   "id": "6a05edb0",
   "metadata": {},
   "outputs": [],
   "source": [
    "chi=0.692085186818\n",
    "M_est=65\n",
    "t_unit=M_est*2950./2/299792458"
   ]
  },
  {
   "cell_type": "code",
   "execution_count": 118,
   "id": "29229de4",
   "metadata": {},
   "outputs": [],
   "source": [
    "mag_from_nr=10*np.array([  0.13657646 +0.95055905j,   3.14657959 -2.71266413j,\n",
    "       -10.84170677 +3.607406j  ,  22.67958241 -8.01885436j,\n",
    "       -30.44795174+19.91714543j,  22.09429848-26.19835642j,\n",
    "        -7.43071591+15.89029183j,   1.0005728  -3.63046079j])"
   ]
  },
  {
   "cell_type": "code",
   "execution_count": 119,
   "id": "b3920c36",
   "metadata": {},
   "outputs": [],
   "source": [
    "def h22new(a,mass,n,t):\n",
    "    t_unit1=mass*2950./2/299792458\n",
    "    htot=[]\n",
    "#     htot+=[np.exp(0*t)]\n",
    "    for i in range(n+1):\n",
    "        grav = qnm.modes_cache(s=-2,l=2,m=2,n=i)\n",
    "        omega, A1, C = grav(a=a)\n",
    "        htot+=[np.exp(-1j*(omega)/t_unit1*abs(t))]\n",
    "    return np.array(htot).T"
   ]
  },
  {
   "cell_type": "code",
   "execution_count": 120,
   "id": "cea78442",
   "metadata": {},
   "outputs": [],
   "source": [
    "def construct_qnm(n,chi,M_est,time):\n",
    "    t_unit1=M_est*2950./2/299792458\n",
    "    datalist=h22new(chi,M_est,n,time)\n",
    "    construct=np.sum(datalist*mag_from_nr[:(n+1)],axis=1)#*np.heaviside(time+0*t_unit1,1)\n",
    "    construct_new=np.nan_to_num(construct)\n",
    "    return np.real(construct_new)\n"
   ]
  },
  {
   "cell_type": "code",
   "execution_count": 121,
   "id": "c076c112",
   "metadata": {},
   "outputs": [],
   "source": [
    "def get_signal(n,chi,M_est,time):\n",
    "    t_unit1=M_est*2950./2/299792458\n",
    "    construct_new=construct_qnm(n,chi,M_est,time)\n",
    "    fpsi422=np.fft.rfft(construct_new,norm='ortho')\n",
    "    ffreq=np.fft.rfftfreq(len(construct_new),d=(time[1]-time[0])/t_unit1)*2*np.pi\n",
    "    return construct_new,ffreq,fpsi422"
   ]
  },
  {
   "cell_type": "code",
   "execution_count": 122,
   "id": "eac057a2",
   "metadata": {},
   "outputs": [],
   "source": [
    "def get_signal_overtone(n,chi,M_est,time):\n",
    "    t_unit1=M_est*2950./2/299792458\n",
    "    grav = qnm.modes_cache(s=-2,l=2,m=2,n=n)\n",
    "    omega, A1, C = grav(a=chi)\n",
    "    construct=np.exp(-1j*(omega)/t_unit1*abs(time))*mag_from_nr[n]\n",
    "    construct_new=np.nan_to_num(construct)\n",
    "    return np.real(construct_new)"
   ]
  },
  {
   "cell_type": "code",
   "execution_count": 123,
   "id": "d2a9dd5e",
   "metadata": {},
   "outputs": [],
   "source": [
    "def fac(ffreq,l,m,n,chi,mass):\n",
    "    t_unit=mass\n",
    "    ome=qnm.modes_cache(s=-2,l=l,m=m,n=n)(a=chi)[0]\n",
    "#     return (ffreq-ome)/(ffreq-np.conj(ome))\n",
    "    return (ffreq*t_unit-ome)/(ffreq*t_unit-np.conj(ome))*(ffreq*t_unit+np.conj(ome))/(ffreq*t_unit+ome)"
   ]
  },
  {
   "cell_type": "code",
   "execution_count": 124,
   "id": "b0dacaa5",
   "metadata": {},
   "outputs": [],
   "source": [
    "chi_filter=chi\n",
    "mass_filter=1."
   ]
  },
  {
   "cell_type": "code",
   "execution_count": 125,
   "id": "9a6c91ad-74db-4774-8540-6f3c08d8deeb",
   "metadata": {},
   "outputs": [],
   "source": [
    "signal,ffreq,fpsi422 = get_signal(1,chi,M_est,time)\n",
    "first_overtone = get_signal_overtone(1,chi,M_est,time)\n",
    "\n",
    "cond_data=np.fft.irfft(fac(-ffreq,2,2,0,chi_filter,mass_filter)*fpsi422,norm='ortho',n=len(signal))"
   ]
  },
  {
   "cell_type": "code",
   "execution_count": 129,
   "id": "6886e237",
   "metadata": {},
   "outputs": [
    {
     "data": {
      "text/plain": [
       "(0.001, 100)"
      ]
     },
     "execution_count": 129,
     "metadata": {},
     "output_type": "execute_result"
    },
    {
     "data": {
      "image/png": "[encoded data removed]",
      "text/plain": [
       "<Figure size 439.2x324 with 1 Axes>"
      ]
     },
     "metadata": {
      "needs_background": "light"
     },
     "output_type": "display_data"
    }
   ],
   "source": [
    "pl.semilogy(time,abs(signal))\n",
    "pl.semilogy(time,abs(cond_data))\n",
    "pl.semilogy(time,0.48*abs(first_overtone))\n",
    "pl.xlim(-0.006, 0.02)\n",
    "pl.ylim(1e-3,100)"
   ]
  },
  {
   "cell_type": "code",
   "execution_count": 130,
   "id": "e8d3d185",
   "metadata": {},
   "outputs": [],
   "source": [
    "def reduce_fact(chi):\n",
    "    ome1=qnm.modes_cache(s=-2,l=2,m=2,n=1)(a=chi)[0]\n",
    "    ome0=qnm.modes_cache(s=-2,l=2,m=2,n=0)(a=chi)[0]\n",
    "    fac11=(ome1-ome0)/(ome1-np.conjugate(ome0))\n",
    "    fac22=(ome1+np.conjugate(ome0))/(ome1+(ome0))\n",
    "    return fac11*fac22"
   ]
  },
  {
   "cell_type": "code",
   "execution_count": 131,
   "id": "aae4ae18",
   "metadata": {},
   "outputs": [
    {
     "data": {
      "text/plain": [
       "(0.48390318268201665+0.05413389358915566j)"
      ]
     },
     "execution_count": 131,
     "metadata": {},
     "output_type": "execute_result"
    }
   ],
   "source": [
    "reduce_fact(chi)"
   ]
  },
  {
   "cell_type": "code",
   "execution_count": null,
   "id": "06dd41f9",
   "metadata": {},
   "outputs": [],
   "source": []
  }
 ],
 "metadata": {
  "kernelspec": {
   "display_name": "Python 3 (ipykernel)",
   "language": "python",
   "name": "python3"
  },
  "language_info": {
   "codemirror_mode": {
    "name": "ipython",
    "version": 3
   },
   "file_extension": ".py",
   "mimetype": "text/x-python",
   "name": "python",
   "nbconvert_exporter": "python",
   "pygments_lexer": "ipython3",
   "version": "3.10.4"
  }
 },
 "nbformat": 4,
 "nbformat_minor": 5
}

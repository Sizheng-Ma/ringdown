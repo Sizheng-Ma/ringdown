{
 "cells": [
  {
   "cell_type": "markdown",
   "id": "573d587c",
   "metadata": {},
   "source": [
    "# Analyzing a single damped sinusoid"
   ]
  },
  {
   "cell_type": "markdown",
   "id": "18d08915-1f2a-452e-a235-7d7309fe7641",
   "metadata": {},
   "source": [
    "This is the simplest possible example: we analyze a single damped sinusoid in white Gaussian noise. We use this case study to demonstrate some basic features of ringdown, including:\n",
    "\n",
    "* how to measure generic frequencies and damping rates\n",
    "* how to set up a fit and run it\n",
    "* how to make some useful plots\n",
    "\n",
    "Let's get started!"
   ]
  },
  {
   "cell_type": "markdown",
   "id": "a24f6670",
   "metadata": {},
   "source": [
    "This first cell must be executed first in order for Stan's multiprocessing code to not crash some MacOS setups; on linux it's not needed."
   ]
  },
  {
   "cell_type": "code",
   "execution_count": null,
   "id": "d5888e7e",
   "metadata": {},
   "outputs": [],
   "source": [
    "%matplotlib inline\n",
    "%config InlineBackend.figure_format = 'retina'"
   ]
  },
  {
   "cell_type": "code",
   "execution_count": null,
   "id": "ba4d994a",
   "metadata": {},
   "outputs": [],
   "source": [
    "from pylab import *\n",
    "import arviz as az\n",
    "import seaborn as sns\n",
    "import pandas as pd\n",
    "import ringdown as rd\n",
    "import qnm\n",
    "\n",
    "sns.set(context='notebook', palette='colorblind')"
   ]
  },
  {
   "cell_type": "code",
   "execution_count": null,
   "id": "5c8ea476",
   "metadata": {},
   "outputs": [],
   "source": [
    "def planck_window(t, tMin=0., tMax=1., tol=.005, rolloff=False):\n",
    "    \"\"\"\n",
    "A smooth function f mapping [tMin, tMax] to [0, 1], with\n",
    "f(tMin)=0, f(tMax)=1, all derivatives -> 0 as t->0 or t->tMax.\n",
    "f(t) = 1/(1 + exp(z)) where z = 1/t - 1/(1-t) for the case\n",
    "tMin=0, tMax=1.\n",
    "tol controls the minimum deviation of t from 0 or tMax, with\n",
    "a tol of .005 giving abs(z) < ~200, where exp(z) is 1.e86 or 1.e-86\n",
    "\n",
    "If rolloff, instead has f(0)=1, f(tMax)=0.\n",
    "    \"\"\"\n",
    "    if rolloff:\n",
    "        return helper.planck_window(-t, tMin=-tMax, tMax=-tMin, tol=tol)\n",
    "\n",
    "    if tMax==1. and tMin==0.:\n",
    "        # If t <= .005, z >= 200. - 1./199. and exp(z) > 1.e86 ~ infinity\n",
    "        # Similar for t > .995 but exp(z) < 1.e-86 ~ 0\n",
    "        safe = (t>tol)*(t<(1.-tol))\n",
    "        safeT = safe*t + (1. - safe)*.5 # use t = 0.5 temporarily for unsafe values\n",
    "        safeZ = 1./safeT - 1./(1. - safeT)\n",
    "        return safe*1./(1. + np.exp(safeZ)) + (t >= (1.-tol))\n",
    "\n",
    "    return planck_window((t-tMin)/(tMax-tMin))"
   ]
  },
  {
   "cell_type": "code",
   "execution_count": null,
   "id": "a08e03d1",
   "metadata": {},
   "outputs": [],
   "source": [
    "def fac(ffreq,l,m,n,chi):\n",
    "    ome=qnm.modes_cache(s=-2,l=l,m=m,n=n)(a=chi)[0]\n",
    "#     return (ffreq-ome)/(ffreq-np.conj(ome))\n",
    "    return (ffreq-ome)/(ffreq-np.conj(ome))*(ffreq+np.conj(ome))/(ffreq+ome)"
   ]
  },
  {
   "cell_type": "markdown",
   "id": "b30b2568-1cb2-418f-ae1d-e558c3df7d41",
   "metadata": {},
   "source": [
    "## Data"
   ]
  },
  {
   "cell_type": "markdown",
   "id": "91c93748-f578-46f0-84bb-14738490bcee",
   "metadata": {},
   "source": [
    "Let's create the simplest possible signal and add Gaussian noise to it. Although `rigndown` contains tools to create and maniuplate more complex ringdown and inspiral-merger-ringdown waveforms, we do not need that for this very simple example."
   ]
  },
  {
   "cell_type": "markdown",
   "id": "07626e63-28d0-4f61-a187-f03f76337250",
   "metadata": {},
   "source": [
    "### Signal"
   ]
  },
  {
   "cell_type": "markdown",
   "id": "81278cd2-0ec7-4f82-9030-c9d5943a0662",
   "metadata": {},
   "source": [
    "First, create a time array based on a specified sampling rate and duration; center it around a target time $t_0$."
   ]
  },
  {
   "cell_type": "code",
   "execution_count": null,
   "id": "1fa658f1-0b0e-4443-84ed-3724617ace71",
   "metadata": {},
   "outputs": [],
   "source": [
    "# define sampling rate and duration (make these powers of two) \n",
    "fsamp = 8192\n",
    "duration = 4\n",
    "t0 = 0\n",
    "\n",
    "delta_t = 1/fsamp\n",
    "tlen = int(round(duration / delta_t))\n",
    "epoch = t0 - 0.5*tlen*delta_t\n",
    "\n",
    "time = np.arange(tlen)*delta_t + epoch"
   ]
  },
  {
   "cell_type": "markdown",
   "id": "688afece-d9b0-4bef-8011-47f9e34ae1a2",
   "metadata": {},
   "source": [
    "We can now use the above timestmps to create a simulated damped sinusoid starting at $t_0$; for good measure, let's extend the signal before $t_0$ to be a corresponding ring-up (the inference is insensitive to what happens before $t_0$, so we can always just let the signal vanish for $t < t_0$, as long as no step in the data conditioning involves taking a Fourier transform---which is true in the example here)."
   ]
  },
  {
   "cell_type": "code",
   "execution_count": null,
   "id": "6a05edb0",
   "metadata": {},
   "outputs": [],
   "source": [
    "chi=0.692085186818\n",
    "M_est=65\n",
    "t_unit=M_est*2950./2/299792458"
   ]
  },
  {
   "cell_type": "code",
   "execution_count": null,
   "id": "9a6c91ad-74db-4774-8540-6f3c08d8deeb",
   "metadata": {},
   "outputs": [],
   "source": [
    "wf_kws = dict(\n",
    "    A1 = 2,\n",
    "    phi1 = 0,\n",
    "    A2 = 16,\n",
    "    phi2 = np.pi/3*2.,\n",
    "    f1 = np.real(qnm.modes_cache(s=-2,l=2,m=2,n=0)(a=chi)[0])/t_unit/2/np.pi,\n",
    "    gamma1 = -np.imag(qnm.modes_cache(s=-2,l=2,m=2,n=0)(a=chi)[0])/t_unit,\n",
    "    f2 = np.real(qnm.modes_cache(s=-2,l=2,m=2,n=1)(a=chi)[0])/t_unit/2/np.pi,\n",
    "    gamma2 = -np.imag(qnm.modes_cache(s=-2,l=2,m=2,n=1)(a=chi)[0])/t_unit,\n",
    ")\n",
    "\n",
    "def get_signal(time, A1, phi1, f1, gamma1, A2, phi2, f2, gamma2):\n",
    "    s = A1*cos(2*np.pi*f1*(time-t0) + phi1)*exp(-gamma1*abs(time-t0)) \\\n",
    "        +A2*cos(2*np.pi*f2*(time-t0) + phi2)*exp(-gamma2*abs(time-t0))\n",
    "    s*=np.heaviside(time,0.5)\n",
    "    s1=A2*cos(2*np.pi*f2*0.5*(time-t0) + phi2)*(1-np.heaviside(time,0.5))\n",
    "    window=planck_window(time, tMin=-1.2, tMax=-0.5)\n",
    "    return rd.Data((s+s1)*window, index=time)\n",
    "\n",
    "def overtone_alone(time, A1, phi1, f1, gamma1, A2, phi2, f2, gamma2):\n",
    "    s = 0*cos(2*np.pi*f1*(time-t0) + phi1)*exp(-gamma1*abs(time-t0)) \\\n",
    "        +A2*cos(2*np.pi*f2*(time-t0) + phi2)*exp(-gamma2*abs(time-t0))\n",
    "    s*=np.heaviside(time,0.5)\n",
    "    s1=A2*cos(2*np.pi*f2*0.5*(time-t0) + phi2)*(1-np.heaviside(time,0.5))\n",
    "    window=planck_window(time, tMin=-1.2, tMax=-0.5)\n",
    "    return (s+s1)*window\n",
    "\n",
    "def fft_load(time, A1, phi1, f1, gamma1, A2, phi2, f2, gamma2):\n",
    "    s = A1*cos(2*np.pi*f1*(time-t0) + phi1)*exp(-gamma1*abs(time-t0)) \\\n",
    "        +A2*cos(2*np.pi*f2*(time-t0) + phi2)*exp(-gamma2*abs(time-t0))\n",
    "    s*=np.heaviside(time,0.5)\n",
    "    s1=A2*cos(2*np.pi*f2*0.5*(time-t0) + phi2)*(1-np.heaviside(time,0.5))\n",
    "    window=planck_window(time, tMin=-1.2, tMax=-0.5)\n",
    "    \n",
    "    fpsi422=np.fft.ifft((s+s1)*window,norm='ortho')\n",
    "    ffreq=np.fft.fftfreq(len(s),d=(time[1]-time[0])/t_unit)*2*np.pi\n",
    "    return ffreq,fpsi422\n",
    "\n",
    "signal = get_signal(time, **wf_kws)\n",
    "signal_overtone = overtone_alone(time, **wf_kws)\n",
    "ffreq,fpsi422 = fft_load(time, **wf_kws)\n",
    "\n",
    "cond_data=(np.fft.fft(fac(ffreq,2,2,0,chi)*fpsi422,norm='ortho'))"
   ]
  },
  {
   "cell_type": "code",
   "execution_count": null,
   "id": "6bda260c-d373-482f-9fba-68953fb59852",
   "metadata": {},
   "outputs": [],
   "source": [
    "signal.plot(label='signal')\n",
    "axvline(t0, ls=':', c='k', label='start time')\n",
    "plot(time,(cond_data))\n",
    "xlim(-0.03, 0.03)\n",
    "xlabel('time (s)')\n",
    "ylabel('strain')\n",
    "legend();"
   ]
  },
  {
   "cell_type": "code",
   "execution_count": null,
   "id": "32728e86",
   "metadata": {},
   "outputs": [],
   "source": [
    "semilogy(time,abs((cond_data)))\n",
    "semilogy(time,abs(0.5*(signal_overtone)))\n",
    "axvline(t0+t_unit, ls=':', c='k', label='start time')\n",
    "xlim(-0.001, 0.006)\n",
    "ylim(1e-5,10)"
   ]
  },
  {
   "cell_type": "markdown",
   "id": "d5d4a7c9-5c3b-42a8-9eb6-b3ac3face2c4",
   "metadata": {},
   "source": [
    "### Noise"
   ]
  },
  {
   "cell_type": "markdown",
   "id": "12bdbafa-c8a3-4052-b02a-371319d3ddd6",
   "metadata": {},
   "source": [
    "Let's add some white Gaussian noise to the signal to obtain our data. This means the autocorrelation function (ACF) of the noise will be $\\rho(\\tau) = \\delta(\\tau)$."
   ]
  },
  {
   "cell_type": "code",
   "execution_count": null,
   "id": "d04bdb50-d3b1-4d54-9a7b-ff752f9b8cc0",
   "metadata": {},
   "outputs": [],
   "source": [
    "rng = np.random.default_rng(12345)\n",
    "data = signal + rng.normal(0, 0.1, len(signal))"
   ]
  },
  {
   "cell_type": "code",
   "execution_count": null,
   "id": "e9200e55-dac7-4b72-a622-28ee61722157",
   "metadata": {},
   "outputs": [],
   "source": [
    "data.plot(label='data')\n",
    "signal.plot(label='signal')\n",
    "axvline(t0, ls=':', c='k', label='start time')\n",
    "xlim(-0.03, 0.03)\n",
    "xlabel('time (s)')\n",
    "ylabel('strain')\n",
    "legend();"
   ]
  },
  {
   "cell_type": "markdown",
   "id": "64586330-bf55-47a7-96c7-7ae1fd9aafbc",
   "metadata": {},
   "source": [
    "For our ringdown analysis, we will need the ACFs corresponding to the noise, which we could estimate empirically from the data; in this case, however, we know the ACF to be a delta function at the origin (corresponding to standard Gaussian noise)."
   ]
  },
  {
   "cell_type": "code",
   "execution_count": null,
   "id": "402cde2b-44da-4e91-abb0-6b7614045dc7",
   "metadata": {},
   "outputs": [],
   "source": [
    "acf = rd.AutoCovariance(zeros_like(data), delta_t=data.delta_t)\n",
    "acf.iloc[0] = 1"
   ]
  },
  {
   "cell_type": "markdown",
   "id": "0540b7c3-30d0-46bb-aac5-12b4f9342cb0",
   "metadata": {},
   "source": [
    "Of course, when working with white noise it is unnecessary to work with the ACF: all we have is a variance (in this case, $\\sigma^2 = 1$) and the likelihood simplifies drastically. However, in real life we never have white noise, so `ringdown` expects an ACF and cannot currently accomodate a scalar variance."
   ]
  },
  {
   "cell_type": "markdown",
   "id": "621e624a-bc5b-453f-bd04-8b335604340c",
   "metadata": {},
   "source": [
    "## Fit"
   ]
  },
  {
   "cell_type": "markdown",
   "id": "67155e44-09d5-47a6-951a-1e173794c74d",
   "metadata": {},
   "source": [
    "We are now ready to analyze the ringdown! Let's create a `Fit` object and set up the analysis. To do this, we first need to specify the model to be fit and the number (or kind) of modes to be used. In this case, we will be using the `ftau` model, which is parameterized in terms of damped sinusoids with generic frequencies $f_n$, damping rates $\\gamma_n = 1/\\tau_n$, amplitudes $A_n$, and phases $\\phi_n$, defined such that successive modes are ordered in terms of damping rate ($\\gamma_n < \\gamma_{n+1}$); for this is example, we will only inject and recover a single mode."
   ]
  },
  {
   "cell_type": "code",
   "execution_count": null,
   "id": "75a8a37e-d575-4519-a645-b0e51fb3c584",
   "metadata": {},
   "outputs": [],
   "source": [
    "fit = rd.Fit(model='mchi_aligned_ftau', modes=[(1, -2, 2, 2, 1)])\n",
    "print(fit.valid_model_options)\n",
    "\n",
    "fit.add_data(data, acf=acf)\n",
    "fit.filter_data(chi,M_est,0)\n",
    "fit.set_target(t0+t_unit, duration=0.015)"
   ]
  },
  {
   "cell_type": "code",
   "execution_count": null,
   "id": "f7fe674e",
   "metadata": {},
   "outputs": [],
   "source": [
    "wd=fit.analysis_data\n",
    "plot(time,((cond_data)))\n",
    "plot(wd[None], label='H1')\n",
    "xlim(t0+t_unit,t0+0.015)"
   ]
  },
  {
   "cell_type": "markdown",
   "id": "1e528e2e-17f3-457f-af9e-8ff1bf67cf32",
   "metadata": {},
   "source": [
    "Finally, let's set some reasonable prior based on our knowledge of the true signal."
   ]
  },
  {
   "cell_type": "code",
   "execution_count": null,
   "id": "d900edf6",
   "metadata": {},
   "outputs": [],
   "source": [
    "fit.update_prior(A_scale=2, M_min=25.0, M_max=140.0, flat_A=True)\n",
    "# fit.update_prior(A_scale=2, M_min=35.0, M_max=140.0, cosi_max=-0.99, flat_A=True)\n",
    "fit.prior_settings"
   ]
  },
  {
   "cell_type": "markdown",
   "id": "be4abe2d",
   "metadata": {},
   "source": [
    "Our fit is ready to go; run it!\n",
    "\n",
    "<div class=\"alert alert-info\">\n",
    "\n",
    "Note\n",
    "\n",
    "The `run()` method will automatically compile the `PyStan` code the first time any fit runs in a given session, which can take a while.  Subsequent runs will use the precompiled code and be much quicker.\n",
    "\n",
    "</div>"
   ]
  },
  {
   "cell_type": "code",
   "execution_count": null,
   "id": "09bcca5f",
   "metadata": {
    "scrolled": true,
    "tags": []
   },
   "outputs": [],
   "source": [
    "fit.run()"
   ]
  },
  {
   "cell_type": "markdown",
   "id": "ab858df4-7244-466c-b070-e35341ed5e5d",
   "metadata": {},
   "source": [
    "## Result"
   ]
  },
  {
   "cell_type": "code",
   "execution_count": null,
   "id": "b92db621",
   "metadata": {},
   "outputs": [],
   "source": [
    "az.summary(fit.result, var_names=['A','phi', 'M', 'chi'])"
   ]
  },
  {
   "cell_type": "code",
   "execution_count": null,
   "id": "eafa926c",
   "metadata": {},
   "outputs": [],
   "source": [
    "az.plot_trace(fit.result, var_names=['A', 'phi'], compact=True);"
   ]
  },
  {
   "cell_type": "code",
   "execution_count": null,
   "id": "fe115829",
   "metadata": {
    "nbsphinx-thumbnail": {
     "tooltip": "Recover a single damped sinusoid from white noise"
    },
    "tags": []
   },
   "outputs": [],
   "source": [
    "mIMR = M_est\n",
    "chiIMR = chi\n",
    "\n",
    "df = pd.DataFrame({\n",
    "    r'$M / M_\\odot$': fit.result.posterior.M.values.flatten(),\n",
    "    r'$\\chi$': fit.result.posterior.chi.values.flatten()\n",
    "})\n",
    "pg = sns.PairGrid(df, diag_sharey=False)\n",
    "pg.map_diag(sns.kdeplot);\n",
    "pg.map_upper(sns.scatterplot);\n",
    "pg.map_lower(rd.kdeplot_2d_clevels, levels=[0.9, 0.5, 0.1])\n",
    "\n",
    "pg.axes[0,0].axvline(mIMR, color='k')\n",
    "pg.axes[0,1].axvline(chiIMR, color='k')\n",
    "pg.axes[0,1].axhline(mIMR, color='k')\n",
    "pg.axes[1,0].axhline(chiIMR, color='k')\n",
    "pg.axes[1,0].axvline(mIMR, color='k')\n",
    "pg.axes[1,1].axvline(chiIMR, color='k')\n",
    "# pg.savefig('res.pdf')"
   ]
  },
  {
   "cell_type": "code",
   "execution_count": null,
   "id": "20154022",
   "metadata": {},
   "outputs": [],
   "source": [
    "import os\n",
    "os.system('say \"hi\"')"
   ]
  }
 ],
 "metadata": {
  "kernelspec": {
   "display_name": "Python 3",
   "language": "python",
   "name": "python3"
  },
  "language_info": {
   "codemirror_mode": {
    "name": "ipython",
    "version": 3
   },
   "file_extension": ".py",
   "mimetype": "text/x-python",
   "name": "python",
   "nbconvert_exporter": "python",
   "pygments_lexer": "ipython3",
   "version": "3.9.5"
  }
 },
 "nbformat": 4,
 "nbformat_minor": 5
}

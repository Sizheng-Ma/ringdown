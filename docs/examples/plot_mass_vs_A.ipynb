{
 "cells": [
  {
   "cell_type": "code",
   "execution_count": 17,
   "id": "3db156b7",
   "metadata": {},
   "outputs": [],
   "source": [
    "import numpy as np\n",
    "import matplotlib.pyplot as pl\n",
    "pl.rcParams.update({'text.usetex': False,\n",
    "                     'font.family': 'serif',\n",
    "                     'font.serif': ['Georgia'],\n",
    "                     'mathtext.fontset': 'cm',\n",
    "                     'lines.linewidth': 2.5,\n",
    "                     'font.size': 14,\n",
    "                     'xtick.labelsize': 'medium',\n",
    "                     'ytick.labelsize': 'medium',\n",
    "                     'xtick.direction': 'in',\n",
    "                     'ytick.direction': 'in',\n",
    "                     'axes.labelsize': 'large',\n",
    "                     'axes.titlesize': 'large',\n",
    "                     'axes.grid': False,\n",
    "                     'grid.alpha': 0.73,\n",
    "                     'lines.markersize': 12,\n",
    "                     'legend.borderpad': 0.2,\n",
    "                     'legend.fancybox': True,\n",
    "                     'legend.fontsize': 12,\n",
    "                     'legend.framealpha': 0.7,\n",
    "                     'legend.handletextpad': 0.5,\n",
    "                     'legend.labelspacing': 0.2,\n",
    "                     'legend.loc': 'best',\n",
    "                     'savefig.dpi': 80,\n",
    "                     'pdf.compression': 9})"
   ]
  },
  {
   "cell_type": "code",
   "execution_count": 56,
   "id": "f52f8ac6",
   "metadata": {},
   "outputs": [],
   "source": [
    "mass=np.array([75.,72,70,69,68,67,66,65,64,78,80,74,73,71,76,77,79,68.5,68.75,69.5])\n",
    "A0=np.array([3.1212246742996947e-22,3.232588544862709e-22,3.0929080494548947e-22,2.970342281682054e-22,\\\n",
    "             3.5122816487643463e-22,3.665627992918477e-22,3.991768875735461e-22,4.319106659982636e-22,5.071477683925278e-22,\\\n",
    "             3.896177136756566e-22,4.953721154191273e-22,2.892052064523595e-22,3.1008662497974813e-22,3.188944960010212e-22,\\\n",
    "             3.228424826738223e-22,3.6165997335847765e-22,4.293656229743421e-22,3.2338519386087088e-22,3.096667156865169e-22,\\\n",
    "             3.0619264402841753e-22\n",
    "])"
   ]
  },
  {
   "cell_type": "code",
   "execution_count": 57,
   "id": "134c7afe",
   "metadata": {},
   "outputs": [
    {
     "data": {
      "image/png": "[encoded data removed]",
      "text/plain": [
       "<Figure size 432x288 with 1 Axes>"
      ]
     },
     "metadata": {
      "needs_background": "light"
     },
     "output_type": "display_data"
    }
   ],
   "source": [
    "pl.scatter(mass,A0,s=9,color='k')\n",
    "pl.axvline(x=68.5,ls='--',color='r',label='IMR')\n",
    "pl.ylabel(r'$A_0$')\n",
    "pl.xlabel(r'$M/M_\\odot$')\n",
    "pl.legend()\n",
    "pl.savefig('GW150914/filter_vary_mass.pdf',bbox_inches='tight')"
   ]
  },
  {
   "cell_type": "code",
   "execution_count": 67,
   "id": "824ec64a",
   "metadata": {},
   "outputs": [],
   "source": [
    "spin=np.array([0.6,0.62,0.64,0.66])"
   ]
  },
  {
   "cell_type": "code",
   "execution_count": 68,
   "id": "f73cca57",
   "metadata": {},
   "outputs": [],
   "source": [
    "A0_spin=np.array([3.431199753264661e-22,3.4498573798300374e-22,3.261504581639891e-22,3.423144791292755e-22])"
   ]
  },
  {
   "cell_type": "code",
   "execution_count": 69,
   "id": "bc8169cf",
   "metadata": {},
   "outputs": [
    {
     "name": "stderr",
     "output_type": "stream",
     "text": [
      "No artists with labels found to put in legend.  Note that artists whose label start with an underscore are ignored when legend() is called with no argument.\n"
     ]
    },
    {
     "data": {
      "text/plain": [
       "<matplotlib.legend.Legend at 0x11d036c80>"
      ]
     },
     "execution_count": 69,
     "metadata": {},
     "output_type": "execute_result"
    },
    {
     "data": {
      "image/png": "[encoded data removed]",
      "text/plain": [
       "<Figure size 432x288 with 1 Axes>"
      ]
     },
     "metadata": {
      "needs_background": "light"
     },
     "output_type": "display_data"
    }
   ],
   "source": [
    "pl.scatter(spin,A0_spin,s=9,color='k')\n",
    "# pl.axvline(x=68.5,ls='--',color='r',label='IMR')\n",
    "pl.ylabel(r'$A_0$')\n",
    "pl.xlabel(r'$\\chi$')\n",
    "pl.legend()\n",
    "# pl.savefig('GW150914/filter_vary_mass.pdf',bbox_inches='tight')"
   ]
  },
  {
   "cell_type": "code",
   "execution_count": null,
   "id": "ec75df7a",
   "metadata": {},
   "outputs": [],
   "source": []
  }
 ],
 "metadata": {
  "kernelspec": {
   "display_name": "Python 3 (ipykernel)",
   "language": "python",
   "name": "python3"
  },
  "language_info": {
   "codemirror_mode": {
    "name": "ipython",
    "version": 3
   },
   "file_extension": ".py",
   "mimetype": "text/x-python",
   "name": "python",
   "nbconvert_exporter": "python",
   "pygments_lexer": "ipython3",
   "version": "3.10.4"
  }
 },
 "nbformat": 4,
 "nbformat_minor": 5
}
